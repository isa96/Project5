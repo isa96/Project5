{
 "cells": [
  {
   "cell_type": "markdown",
   "metadata": {},
   "source": [
    "<br>\n",
    "\n",
    "<span style=\"font-size:2em;font-weight:bold\">Auto Insurance Fraud Analysis</span>\n",
    "\n",
    "In this exercise, we'll be creating a simple [Flask application](https://algoritma-autoinsurance.herokuapp.com/) using [fraud-detection-insurance data](https://www.kaggle.com/sanjeevkallepalli/fraud-detection-insurance) for autoinsurance fraud detection. Full data glossary can be accessed [here](https://github.com/t3981-h/AI-Fraud/blob/master/README.md).\n",
    "\n",
    "This notebook contains guidances & tasks on the data processing for the application."
   ]
  },
  {
   "cell_type": "markdown",
   "metadata": {},
   "source": [
    "<span style=\"font-size:1.5em;font-weight:bold\">Libraries & Setup</span>:"
   ]
  },
  {
   "cell_type": "code",
   "execution_count": 1,
   "metadata": {
    "ExecuteTime": {
     "end_time": "2020-09-19T21:24:40.303014Z",
     "start_time": "2020-09-19T21:24:40.292045Z"
    }
   },
   "outputs": [],
   "source": [
    "import warnings\n",
    "warnings.filterwarnings('ignore')\n",
    "\n",
    "import pandas as pd\n",
    "import matplotlib.pyplot as plt\n",
    "import matplotlib.patches as mpatches"
   ]
  },
  {
   "cell_type": "markdown",
   "metadata": {},
   "source": [
    "# Load & Pre-process data\n",
    "\n",
    "Let's begin by reading our dataset in. The data will be using is `autoinsurance.csv` which located under `data/` directory:"
   ]
  },
  {
   "cell_type": "code",
   "execution_count": 4,
   "metadata": {
    "ExecuteTime": {
     "end_time": "2020-09-19T21:25:13.703238Z",
     "start_time": "2020-09-19T21:25:13.656822Z"
    }
   },
   "outputs": [
    {
     "data": {
      "text/html": [
       "<div>\n",
       "<style scoped>\n",
       "    .dataframe tbody tr th:only-of-type {\n",
       "        vertical-align: middle;\n",
       "    }\n",
       "\n",
       "    .dataframe tbody tr th {\n",
       "        vertical-align: top;\n",
       "    }\n",
       "\n",
       "    .dataframe thead th {\n",
       "        text-align: right;\n",
       "    }\n",
       "</style>\n",
       "<table border=\"1\" class=\"dataframe\">\n",
       "  <thead>\n",
       "    <tr style=\"text-align: right;\">\n",
       "      <th></th>\n",
       "      <th>months_as_customer</th>\n",
       "      <th>age</th>\n",
       "      <th>policy_number</th>\n",
       "      <th>policy_bind_date</th>\n",
       "      <th>policy_state</th>\n",
       "      <th>policy_csl</th>\n",
       "      <th>policy_deductable</th>\n",
       "      <th>policy_annual_premium</th>\n",
       "      <th>umbrella_limit</th>\n",
       "      <th>insured_zip</th>\n",
       "      <th>...</th>\n",
       "      <th>police_report_available</th>\n",
       "      <th>total_claim_amount</th>\n",
       "      <th>injury_claim</th>\n",
       "      <th>property_claim</th>\n",
       "      <th>vehicle_claim</th>\n",
       "      <th>auto_make</th>\n",
       "      <th>auto_model</th>\n",
       "      <th>auto_year</th>\n",
       "      <th>fraud_reported</th>\n",
       "      <th>_c39</th>\n",
       "    </tr>\n",
       "  </thead>\n",
       "  <tbody>\n",
       "    <tr>\n",
       "      <th>0</th>\n",
       "      <td>328</td>\n",
       "      <td>48</td>\n",
       "      <td>521585</td>\n",
       "      <td>2014-10-17</td>\n",
       "      <td>OH</td>\n",
       "      <td>250/500</td>\n",
       "      <td>1000</td>\n",
       "      <td>1406.91</td>\n",
       "      <td>0</td>\n",
       "      <td>466132</td>\n",
       "      <td>...</td>\n",
       "      <td>YES</td>\n",
       "      <td>71610</td>\n",
       "      <td>6510</td>\n",
       "      <td>13020</td>\n",
       "      <td>52080</td>\n",
       "      <td>Saab</td>\n",
       "      <td>92x</td>\n",
       "      <td>2004</td>\n",
       "      <td>Y</td>\n",
       "      <td>NaN</td>\n",
       "    </tr>\n",
       "    <tr>\n",
       "      <th>1</th>\n",
       "      <td>228</td>\n",
       "      <td>42</td>\n",
       "      <td>342868</td>\n",
       "      <td>2006-06-27</td>\n",
       "      <td>IN</td>\n",
       "      <td>250/500</td>\n",
       "      <td>2000</td>\n",
       "      <td>1197.22</td>\n",
       "      <td>5000000</td>\n",
       "      <td>468176</td>\n",
       "      <td>...</td>\n",
       "      <td>?</td>\n",
       "      <td>5070</td>\n",
       "      <td>780</td>\n",
       "      <td>780</td>\n",
       "      <td>3510</td>\n",
       "      <td>Mercedes</td>\n",
       "      <td>E400</td>\n",
       "      <td>2007</td>\n",
       "      <td>Y</td>\n",
       "      <td>NaN</td>\n",
       "    </tr>\n",
       "    <tr>\n",
       "      <th>2</th>\n",
       "      <td>134</td>\n",
       "      <td>29</td>\n",
       "      <td>687698</td>\n",
       "      <td>2000-09-06</td>\n",
       "      <td>OH</td>\n",
       "      <td>100/300</td>\n",
       "      <td>2000</td>\n",
       "      <td>1413.14</td>\n",
       "      <td>5000000</td>\n",
       "      <td>430632</td>\n",
       "      <td>...</td>\n",
       "      <td>NO</td>\n",
       "      <td>34650</td>\n",
       "      <td>7700</td>\n",
       "      <td>3850</td>\n",
       "      <td>23100</td>\n",
       "      <td>Dodge</td>\n",
       "      <td>RAM</td>\n",
       "      <td>2007</td>\n",
       "      <td>N</td>\n",
       "      <td>NaN</td>\n",
       "    </tr>\n",
       "    <tr>\n",
       "      <th>3</th>\n",
       "      <td>256</td>\n",
       "      <td>41</td>\n",
       "      <td>227811</td>\n",
       "      <td>1990-05-25</td>\n",
       "      <td>IL</td>\n",
       "      <td>250/500</td>\n",
       "      <td>2000</td>\n",
       "      <td>1415.74</td>\n",
       "      <td>6000000</td>\n",
       "      <td>608117</td>\n",
       "      <td>...</td>\n",
       "      <td>NO</td>\n",
       "      <td>63400</td>\n",
       "      <td>6340</td>\n",
       "      <td>6340</td>\n",
       "      <td>50720</td>\n",
       "      <td>Chevrolet</td>\n",
       "      <td>Tahoe</td>\n",
       "      <td>2014</td>\n",
       "      <td>Y</td>\n",
       "      <td>NaN</td>\n",
       "    </tr>\n",
       "    <tr>\n",
       "      <th>4</th>\n",
       "      <td>228</td>\n",
       "      <td>44</td>\n",
       "      <td>367455</td>\n",
       "      <td>2014-06-06</td>\n",
       "      <td>IL</td>\n",
       "      <td>500/1000</td>\n",
       "      <td>1000</td>\n",
       "      <td>1583.91</td>\n",
       "      <td>6000000</td>\n",
       "      <td>610706</td>\n",
       "      <td>...</td>\n",
       "      <td>NO</td>\n",
       "      <td>6500</td>\n",
       "      <td>1300</td>\n",
       "      <td>650</td>\n",
       "      <td>4550</td>\n",
       "      <td>Accura</td>\n",
       "      <td>RSX</td>\n",
       "      <td>2009</td>\n",
       "      <td>N</td>\n",
       "      <td>NaN</td>\n",
       "    </tr>\n",
       "  </tbody>\n",
       "</table>\n",
       "<p>5 rows × 40 columns</p>\n",
       "</div>"
      ],
      "text/plain": [
       "   months_as_customer  age  policy_number policy_bind_date policy_state  \\\n",
       "0                 328   48         521585       2014-10-17           OH   \n",
       "1                 228   42         342868       2006-06-27           IN   \n",
       "2                 134   29         687698       2000-09-06           OH   \n",
       "3                 256   41         227811       1990-05-25           IL   \n",
       "4                 228   44         367455       2014-06-06           IL   \n",
       "\n",
       "  policy_csl  policy_deductable  policy_annual_premium  umbrella_limit  \\\n",
       "0    250/500               1000                1406.91               0   \n",
       "1    250/500               2000                1197.22         5000000   \n",
       "2    100/300               2000                1413.14         5000000   \n",
       "3    250/500               2000                1415.74         6000000   \n",
       "4   500/1000               1000                1583.91         6000000   \n",
       "\n",
       "   insured_zip  ... police_report_available total_claim_amount injury_claim  \\\n",
       "0       466132  ...                     YES              71610         6510   \n",
       "1       468176  ...                       ?               5070          780   \n",
       "2       430632  ...                      NO              34650         7700   \n",
       "3       608117  ...                      NO              63400         6340   \n",
       "4       610706  ...                      NO               6500         1300   \n",
       "\n",
       "  property_claim vehicle_claim  auto_make  auto_model auto_year  \\\n",
       "0          13020         52080       Saab         92x      2004   \n",
       "1            780          3510   Mercedes        E400      2007   \n",
       "2           3850         23100      Dodge         RAM      2007   \n",
       "3           6340         50720  Chevrolet       Tahoe      2014   \n",
       "4            650          4550     Accura         RSX      2009   \n",
       "\n",
       "  fraud_reported _c39  \n",
       "0              Y  NaN  \n",
       "1              Y  NaN  \n",
       "2              N  NaN  \n",
       "3              Y  NaN  \n",
       "4              N  NaN  \n",
       "\n",
       "[5 rows x 40 columns]"
      ]
     },
     "execution_count": 4,
     "metadata": {},
     "output_type": "execute_result"
    }
   ],
   "source": [
    "insurance = pd.read_csv('data/autoinsurance.csv')\n",
    "insurance.head()"
   ]
  },
  {
   "cell_type": "markdown",
   "metadata": {},
   "source": [
    "A very common step on your exploratory process is to make sure that all your columns have stored in the right data types. In the following cell, use `dtypes` to acquire information of data type of each column:"
   ]
  },
  {
   "cell_type": "code",
   "execution_count": 4,
   "metadata": {},
   "outputs": [
    {
     "data": {
      "text/plain": [
       "months_as_customer               int64\n",
       "age                              int64\n",
       "policy_number                    int64\n",
       "policy_bind_date                object\n",
       "policy_state                    object\n",
       "policy_csl                      object\n",
       "policy_deductable                int64\n",
       "policy_annual_premium          float64\n",
       "umbrella_limit                   int64\n",
       "insured_zip                      int64\n",
       "insured_sex                     object\n",
       "insured_education_level         object\n",
       "insured_occupation              object\n",
       "insured_hobbies                 object\n",
       "insured_relationship            object\n",
       "capital-gains                    int64\n",
       "capital-loss                     int64\n",
       "incident_date                   object\n",
       "incident_type                   object\n",
       "collision_type                  object\n",
       "incident_severity               object\n",
       "authorities_contacted           object\n",
       "incident_state                  object\n",
       "incident_city                   object\n",
       "incident_location               object\n",
       "incident_hour_of_the_day         int64\n",
       "number_of_vehicles_involved      int64\n",
       "property_damage                 object\n",
       "bodily_injuries                  int64\n",
       "witnesses                        int64\n",
       "police_report_available         object\n",
       "total_claim_amount               int64\n",
       "injury_claim                     int64\n",
       "property_claim                   int64\n",
       "vehicle_claim                    int64\n",
       "auto_make                       object\n",
       "auto_model                      object\n",
       "auto_year                        int64\n",
       "fraud_reported                  object\n",
       "_c39                           float64\n",
       "dtype: object"
      ]
     },
     "execution_count": 4,
     "metadata": {},
     "output_type": "execute_result"
    }
   ],
   "source": [
    "## Your code here\n",
    "insurance.dtypes"
   ]
  },
  {
   "cell_type": "markdown",
   "metadata": {},
   "source": [
    "Notice that all categorical informations from the data were stored as `object` rather than `category`.\n",
    "\n",
    "## Adjust Data Types\n",
    "\n",
    "**Task 1**: Fill in the blank (`___`) part of the code below to cast all `object` to `category`:"
   ]
  },
  {
   "cell_type": "code",
   "execution_count": 5,
   "metadata": {},
   "outputs": [],
   "source": [
    "catcol = insurance.select_dtypes('object').columns\n",
    "insurance[catcol] = insurance[catcol].apply(lambda x: x.astype('category'))"
   ]
  },
  {
   "cell_type": "code",
   "execution_count": 6,
   "metadata": {},
   "outputs": [
    {
     "data": {
      "text/plain": [
       "months_as_customer                int64\n",
       "age                               int64\n",
       "policy_number                     int64\n",
       "policy_bind_date               category\n",
       "policy_state                   category\n",
       "policy_csl                     category\n",
       "policy_deductable                 int64\n",
       "policy_annual_premium           float64\n",
       "umbrella_limit                    int64\n",
       "insured_zip                       int64\n",
       "insured_sex                    category\n",
       "insured_education_level        category\n",
       "insured_occupation             category\n",
       "insured_hobbies                category\n",
       "insured_relationship           category\n",
       "capital-gains                     int64\n",
       "capital-loss                      int64\n",
       "incident_date                  category\n",
       "incident_type                  category\n",
       "collision_type                 category\n",
       "incident_severity              category\n",
       "authorities_contacted          category\n",
       "incident_state                 category\n",
       "incident_city                  category\n",
       "incident_location              category\n",
       "incident_hour_of_the_day          int64\n",
       "number_of_vehicles_involved       int64\n",
       "property_damage                category\n",
       "bodily_injuries                   int64\n",
       "witnesses                         int64\n",
       "police_report_available        category\n",
       "total_claim_amount                int64\n",
       "injury_claim                      int64\n",
       "property_claim                    int64\n",
       "vehicle_claim                     int64\n",
       "auto_make                      category\n",
       "auto_model                     category\n",
       "auto_year                         int64\n",
       "fraud_reported                 category\n",
       "_c39                            float64\n",
       "dtype: object"
      ]
     },
     "execution_count": 6,
     "metadata": {},
     "output_type": "execute_result"
    }
   ],
   "source": [
    "insurance.dtypes"
   ]
  },
  {
   "cell_type": "markdown",
   "metadata": {},
   "source": [
    "## Wrap as Function\n",
    "\n",
    "Lastly, let's wrap the whole process above as a function named `load_data()`. This process is essential because in your Flask application later, you will need to define all your data processing as specific functions. \n",
    "\n",
    "**Task 3**: Fill in the blank (`___`) part with the same process you have done previously to complete the function."
   ]
  },
  {
   "cell_type": "code",
   "execution_count": 7,
   "metadata": {
    "ExecuteTime": {
     "end_time": "2020-09-19T21:43:20.778413Z",
     "start_time": "2020-09-19T21:43:20.759463Z"
    }
   },
   "outputs": [],
   "source": [
    "def load_data():\n",
    "    # Read data\n",
    "    insurance = pd.read_csv('data/autoinsurance.csv')\n",
    "    \n",
    "    # Adjust dtypes\n",
    "    catcol = insurance.select_dtypes('object').columns\n",
    "    insurance[catcol] = insurance[catcol].apply(lambda x: x.astype('category'))\n",
    "    \n",
    "    return(insurance)"
   ]
  },
  {
   "cell_type": "markdown",
   "metadata": {},
   "source": [
    "Congratulations, you have done the very first challenge of this capstone project!\n",
    "\n",
    "If you take a look at the project directory, you will find two separate scripts; `app.py` and `helper.py`. `app.py` handles the routing and within `helper.py` you would define function to be called in `app`.\n",
    "\n",
    "If you open up the `helper.py`, you will find all the functions needed to create the dashboard contents such as plots and data values. You may now copy the `load_data()` function definition above and overwrite the existing function on the script and save it.\n",
    "\n",
    "In `app.py`, notice that there's a line of `data = load_data()`. that you've save your function in separate python file/script, you can import the function to another script as the following:"
   ]
  },
  {
   "cell_type": "code",
   "execution_count": 9,
   "metadata": {
    "ExecuteTime": {
     "end_time": "2020-09-19T21:43:22.508187Z",
     "start_time": "2020-09-19T21:43:22.427877Z"
    }
   },
   "outputs": [
    {
     "data": {
      "text/html": [
       "<div>\n",
       "<style scoped>\n",
       "    .dataframe tbody tr th:only-of-type {\n",
       "        vertical-align: middle;\n",
       "    }\n",
       "\n",
       "    .dataframe tbody tr th {\n",
       "        vertical-align: top;\n",
       "    }\n",
       "\n",
       "    .dataframe thead th {\n",
       "        text-align: right;\n",
       "    }\n",
       "</style>\n",
       "<table border=\"1\" class=\"dataframe\">\n",
       "  <thead>\n",
       "    <tr style=\"text-align: right;\">\n",
       "      <th></th>\n",
       "      <th>months_as_customer</th>\n",
       "      <th>age</th>\n",
       "      <th>policy_number</th>\n",
       "      <th>policy_bind_date</th>\n",
       "      <th>policy_state</th>\n",
       "      <th>policy_csl</th>\n",
       "      <th>policy_deductable</th>\n",
       "      <th>policy_annual_premium</th>\n",
       "      <th>umbrella_limit</th>\n",
       "      <th>insured_zip</th>\n",
       "      <th>...</th>\n",
       "      <th>police_report_available</th>\n",
       "      <th>total_claim_amount</th>\n",
       "      <th>injury_claim</th>\n",
       "      <th>property_claim</th>\n",
       "      <th>vehicle_claim</th>\n",
       "      <th>auto_make</th>\n",
       "      <th>auto_model</th>\n",
       "      <th>auto_year</th>\n",
       "      <th>fraud_reported</th>\n",
       "      <th>_c39</th>\n",
       "    </tr>\n",
       "  </thead>\n",
       "  <tbody>\n",
       "    <tr>\n",
       "      <th>0</th>\n",
       "      <td>328</td>\n",
       "      <td>48</td>\n",
       "      <td>521585</td>\n",
       "      <td>2014-10-17</td>\n",
       "      <td>OH</td>\n",
       "      <td>250/500</td>\n",
       "      <td>1000</td>\n",
       "      <td>1406.91</td>\n",
       "      <td>0</td>\n",
       "      <td>466132</td>\n",
       "      <td>...</td>\n",
       "      <td>YES</td>\n",
       "      <td>71610</td>\n",
       "      <td>6510</td>\n",
       "      <td>13020</td>\n",
       "      <td>52080</td>\n",
       "      <td>Saab</td>\n",
       "      <td>92x</td>\n",
       "      <td>2004</td>\n",
       "      <td>Y</td>\n",
       "      <td>NaN</td>\n",
       "    </tr>\n",
       "    <tr>\n",
       "      <th>1</th>\n",
       "      <td>228</td>\n",
       "      <td>42</td>\n",
       "      <td>342868</td>\n",
       "      <td>2006-06-27</td>\n",
       "      <td>IN</td>\n",
       "      <td>250/500</td>\n",
       "      <td>2000</td>\n",
       "      <td>1197.22</td>\n",
       "      <td>5000000</td>\n",
       "      <td>468176</td>\n",
       "      <td>...</td>\n",
       "      <td>?</td>\n",
       "      <td>5070</td>\n",
       "      <td>780</td>\n",
       "      <td>780</td>\n",
       "      <td>3510</td>\n",
       "      <td>Mercedes</td>\n",
       "      <td>E400</td>\n",
       "      <td>2007</td>\n",
       "      <td>Y</td>\n",
       "      <td>NaN</td>\n",
       "    </tr>\n",
       "    <tr>\n",
       "      <th>2</th>\n",
       "      <td>134</td>\n",
       "      <td>29</td>\n",
       "      <td>687698</td>\n",
       "      <td>2000-09-06</td>\n",
       "      <td>OH</td>\n",
       "      <td>100/300</td>\n",
       "      <td>2000</td>\n",
       "      <td>1413.14</td>\n",
       "      <td>5000000</td>\n",
       "      <td>430632</td>\n",
       "      <td>...</td>\n",
       "      <td>NO</td>\n",
       "      <td>34650</td>\n",
       "      <td>7700</td>\n",
       "      <td>3850</td>\n",
       "      <td>23100</td>\n",
       "      <td>Dodge</td>\n",
       "      <td>RAM</td>\n",
       "      <td>2007</td>\n",
       "      <td>N</td>\n",
       "      <td>NaN</td>\n",
       "    </tr>\n",
       "    <tr>\n",
       "      <th>3</th>\n",
       "      <td>256</td>\n",
       "      <td>41</td>\n",
       "      <td>227811</td>\n",
       "      <td>1990-05-25</td>\n",
       "      <td>IL</td>\n",
       "      <td>250/500</td>\n",
       "      <td>2000</td>\n",
       "      <td>1415.74</td>\n",
       "      <td>6000000</td>\n",
       "      <td>608117</td>\n",
       "      <td>...</td>\n",
       "      <td>NO</td>\n",
       "      <td>63400</td>\n",
       "      <td>6340</td>\n",
       "      <td>6340</td>\n",
       "      <td>50720</td>\n",
       "      <td>Chevrolet</td>\n",
       "      <td>Tahoe</td>\n",
       "      <td>2014</td>\n",
       "      <td>Y</td>\n",
       "      <td>NaN</td>\n",
       "    </tr>\n",
       "    <tr>\n",
       "      <th>4</th>\n",
       "      <td>228</td>\n",
       "      <td>44</td>\n",
       "      <td>367455</td>\n",
       "      <td>2014-06-06</td>\n",
       "      <td>IL</td>\n",
       "      <td>500/1000</td>\n",
       "      <td>1000</td>\n",
       "      <td>1583.91</td>\n",
       "      <td>6000000</td>\n",
       "      <td>610706</td>\n",
       "      <td>...</td>\n",
       "      <td>NO</td>\n",
       "      <td>6500</td>\n",
       "      <td>1300</td>\n",
       "      <td>650</td>\n",
       "      <td>4550</td>\n",
       "      <td>Accura</td>\n",
       "      <td>RSX</td>\n",
       "      <td>2009</td>\n",
       "      <td>N</td>\n",
       "      <td>NaN</td>\n",
       "    </tr>\n",
       "  </tbody>\n",
       "</table>\n",
       "<p>5 rows × 40 columns</p>\n",
       "</div>"
      ],
      "text/plain": [
       "   months_as_customer  age  policy_number policy_bind_date policy_state  \\\n",
       "0                 328   48         521585       2014-10-17           OH   \n",
       "1                 228   42         342868       2006-06-27           IN   \n",
       "2                 134   29         687698       2000-09-06           OH   \n",
       "3                 256   41         227811       1990-05-25           IL   \n",
       "4                 228   44         367455       2014-06-06           IL   \n",
       "\n",
       "  policy_csl  policy_deductable  policy_annual_premium  umbrella_limit  \\\n",
       "0    250/500               1000                1406.91               0   \n",
       "1    250/500               2000                1197.22         5000000   \n",
       "2    100/300               2000                1413.14         5000000   \n",
       "3    250/500               2000                1415.74         6000000   \n",
       "4   500/1000               1000                1583.91         6000000   \n",
       "\n",
       "   insured_zip  ... police_report_available total_claim_amount injury_claim  \\\n",
       "0       466132  ...                     YES              71610         6510   \n",
       "1       468176  ...                       ?               5070          780   \n",
       "2       430632  ...                      NO              34650         7700   \n",
       "3       608117  ...                      NO              63400         6340   \n",
       "4       610706  ...                      NO               6500         1300   \n",
       "\n",
       "  property_claim vehicle_claim  auto_make  auto_model auto_year  \\\n",
       "0          13020         52080       Saab         92x      2004   \n",
       "1            780          3510   Mercedes        E400      2007   \n",
       "2           3850         23100      Dodge         RAM      2007   \n",
       "3           6340         50720  Chevrolet       Tahoe      2014   \n",
       "4            650          4550     Accura         RSX      2009   \n",
       "\n",
       "  fraud_reported _c39  \n",
       "0              Y  NaN  \n",
       "1              Y  NaN  \n",
       "2              N  NaN  \n",
       "3              Y  NaN  \n",
       "4              N  NaN  \n",
       "\n",
       "[5 rows x 40 columns]"
      ]
     },
     "execution_count": 9,
     "metadata": {},
     "output_type": "execute_result"
    }
   ],
   "source": [
    "data = load_data()\n",
    "data.head()"
   ]
  },
  {
   "cell_type": "markdown",
   "metadata": {},
   "source": [
    "<span style=\"font-size:2em;font-weight:bold\">Data Wrangling & Visualization</span>\n",
    "\n",
    "Now that you're data is ready, we're now ready to prepare the explanatory data in our dashboard!\n",
    "\n",
    "Within `app.py` you will see the `index()` function will return a rendered templates along with some variables:\n",
    "- `card_data`: quick summary including **Fraud Rate**, **Average Claim Amount** & **Fraud Loss**\n",
    "- `plot_age`: **Fraud Reported by Age group** plot in **by Profile** tab\n",
    "- `plot_premium`: **Months as Customer per Policy Annual Premium** plot in **by Profile** tab\n",
    "- `plot_incident`: **Number of Fraud Reported per Day** plot in **by Report** tab\n",
    "- `plot_report`: **Police Report Availability** plot in **by Report** tab\n",
    "\n",
    "The values and plots above were resulted from all EDA techniques you have learned in the pervious workshops. Your next challenge is to recall how to use pandas subsetting method, aggregation tables and simple visualization!\n"
   ]
  },
  {
   "cell_type": "markdown",
   "metadata": {},
   "source": [
    "# Extract Quick Summary\n",
    "\n",
    "Let's acquire the needed information for the quick summary in `card_data`. There are 3 values you need to extract:\n",
    "- **Fraud Rate**: The percentage of fraud reported (`Fraud_reported` = Y)  \n",
    "- **Average Claim Amount**: The Average of total claim amount at this quarter (`total_claim_amount`)  \n",
    "- **Total Fraud Loss**: Total of fraud loss at this quarter (`total_claim_amount`)\n",
    "\n",
    "**Task 4**: Fill in the blank (`___`) part of the code below to create a proportion table of fraud and not fraud customer!"
   ]
  },
  {
   "cell_type": "code",
   "execution_count": 17,
   "metadata": {
    "ExecuteTime": {
     "end_time": "2020-09-19T21:43:58.021131Z",
     "start_time": "2020-09-19T21:43:57.866936Z"
    },
    "scrolled": true
   },
   "outputs": [
    {
     "data": {
      "text/html": [
       "<div>\n",
       "<style scoped>\n",
       "    .dataframe tbody tr th:only-of-type {\n",
       "        vertical-align: middle;\n",
       "    }\n",
       "\n",
       "    .dataframe tbody tr th {\n",
       "        vertical-align: top;\n",
       "    }\n",
       "\n",
       "    .dataframe thead th {\n",
       "        text-align: right;\n",
       "    }\n",
       "</style>\n",
       "<table border=\"1\" class=\"dataframe\">\n",
       "  <thead>\n",
       "    <tr style=\"text-align: right;\">\n",
       "      <th>col_0</th>\n",
       "      <th>count</th>\n",
       "    </tr>\n",
       "    <tr>\n",
       "      <th>fraud_reported</th>\n",
       "      <th></th>\n",
       "    </tr>\n",
       "  </thead>\n",
       "  <tbody>\n",
       "    <tr>\n",
       "      <th>N</th>\n",
       "      <td>75.3</td>\n",
       "    </tr>\n",
       "    <tr>\n",
       "      <th>Y</th>\n",
       "      <td>24.7</td>\n",
       "    </tr>\n",
       "  </tbody>\n",
       "</table>\n",
       "</div>"
      ],
      "text/plain": [
       "col_0           count\n",
       "fraud_reported       \n",
       "N                75.3\n",
       "Y                24.7"
      ]
     },
     "execution_count": 17,
     "metadata": {},
     "output_type": "execute_result"
    }
   ],
   "source": [
    "pd.crosstab(index=________,columns='count',normalize=______)*100"
   ]
  },
  {
   "cell_type": "code",
   "execution_count": 10,
   "metadata": {},
   "outputs": [
    {
     "data": {
      "text/html": [
       "<div>\n",
       "<style scoped>\n",
       "    .dataframe tbody tr th:only-of-type {\n",
       "        vertical-align: middle;\n",
       "    }\n",
       "\n",
       "    .dataframe tbody tr th {\n",
       "        vertical-align: top;\n",
       "    }\n",
       "\n",
       "    .dataframe thead th {\n",
       "        text-align: right;\n",
       "    }\n",
       "</style>\n",
       "<table border=\"1\" class=\"dataframe\">\n",
       "  <thead>\n",
       "    <tr style=\"text-align: right;\">\n",
       "      <th>col_0</th>\n",
       "      <th>count</th>\n",
       "    </tr>\n",
       "    <tr>\n",
       "      <th>fraud_reported</th>\n",
       "      <th></th>\n",
       "    </tr>\n",
       "  </thead>\n",
       "  <tbody>\n",
       "    <tr>\n",
       "      <th>N</th>\n",
       "      <td>75.3</td>\n",
       "    </tr>\n",
       "    <tr>\n",
       "      <th>Y</th>\n",
       "      <td>24.7</td>\n",
       "    </tr>\n",
       "  </tbody>\n",
       "</table>\n",
       "</div>"
      ],
      "text/plain": [
       "col_0           count\n",
       "fraud_reported       \n",
       "N                75.3\n",
       "Y                24.7"
      ]
     },
     "execution_count": 10,
     "metadata": {},
     "output_type": "execute_result"
    }
   ],
   "source": [
    "pd.crosstab(index=data['fraud_reported'],columns='count',normalize=True)*100"
   ]
  },
  {
   "cell_type": "code",
   "execution_count": 11,
   "metadata": {},
   "outputs": [],
   "source": [
    "FraudRate = pd.crosstab(index=data['fraud_reported'],columns='count',normalize=True)*100"
   ]
  },
  {
   "cell_type": "code",
   "execution_count": 12,
   "metadata": {},
   "outputs": [
    {
     "data": {
      "text/plain": [
       "24.7"
      ]
     },
     "execution_count": 12,
     "metadata": {},
     "output_type": "execute_result"
    }
   ],
   "source": [
    "FraudRate.loc['Y','count']"
   ]
  },
  {
   "cell_type": "markdown",
   "metadata": {},
   "source": [
    "We can extract the value from our table by using `.loc[]` subsetting method. \n",
    "\n",
    "**Task 5**: Fill in the blank (`___`) part to extract the information of fraud reported!"
   ]
  },
  {
   "cell_type": "code",
   "execution_count": 13,
   "metadata": {
    "ExecuteTime": {
     "end_time": "2020-09-19T21:45:46.676490Z",
     "start_time": "2020-09-19T21:45:46.655576Z"
    }
   },
   "outputs": [
    {
     "data": {
      "text/plain": [
       "'24.7%'"
      ]
     },
     "execution_count": 13,
     "metadata": {},
     "output_type": "execute_result"
    }
   ],
   "source": [
    "percent_fraud = float(FraudRate.loc['Y','count'])\n",
    "\n",
    "f'{percent_fraud}%'"
   ]
  },
  {
   "cell_type": "markdown",
   "metadata": {},
   "source": [
    "**Task 6**: Extract total fraud loss with similar method! Total fraud loss is total claim amount at reported fraud costumer"
   ]
  },
  {
   "cell_type": "code",
   "execution_count": 14,
   "metadata": {},
   "outputs": [
    {
     "data": {
      "text/html": [
       "<div>\n",
       "<style scoped>\n",
       "    .dataframe tbody tr th:only-of-type {\n",
       "        vertical-align: middle;\n",
       "    }\n",
       "\n",
       "    .dataframe tbody tr th {\n",
       "        vertical-align: top;\n",
       "    }\n",
       "\n",
       "    .dataframe thead th {\n",
       "        text-align: right;\n",
       "    }\n",
       "</style>\n",
       "<table border=\"1\" class=\"dataframe\">\n",
       "  <thead>\n",
       "    <tr style=\"text-align: right;\">\n",
       "      <th>col_0</th>\n",
       "      <th>Total</th>\n",
       "    </tr>\n",
       "    <tr>\n",
       "      <th>fraud_reported</th>\n",
       "      <th></th>\n",
       "    </tr>\n",
       "  </thead>\n",
       "  <tbody>\n",
       "    <tr>\n",
       "      <th>N</th>\n",
       "      <td>37867320</td>\n",
       "    </tr>\n",
       "    <tr>\n",
       "      <th>Y</th>\n",
       "      <td>14894620</td>\n",
       "    </tr>\n",
       "  </tbody>\n",
       "</table>\n",
       "</div>"
      ],
      "text/plain": [
       "col_0              Total\n",
       "fraud_reported          \n",
       "N               37867320\n",
       "Y               14894620"
      ]
     },
     "execution_count": 14,
     "metadata": {},
     "output_type": "execute_result"
    }
   ],
   "source": [
    "pd.crosstab(index=data['fraud_reported'],\n",
    "            columns='Total',\n",
    "            values=data['total_claim_amount'],\n",
    "            aggfunc='sum'\n",
    "           )"
   ]
  },
  {
   "cell_type": "code",
   "execution_count": 15,
   "metadata": {
    "ExecuteTime": {
     "end_time": "2020-09-19T21:49:19.137980Z",
     "start_time": "2020-09-19T21:49:19.120027Z"
    }
   },
   "outputs": [
    {
     "data": {
      "text/plain": [
       "'US$ 14,894,620'"
      ]
     },
     "execution_count": 15,
     "metadata": {},
     "output_type": "execute_result"
    }
   ],
   "source": [
    "fraud_loss = pd.crosstab(index=data['fraud_reported'],\n",
    "            columns='Total',\n",
    "            values=data['total_claim_amount'],\n",
    "            aggfunc='sum'\n",
    "           ).loc['Y','Total']\n",
    "\n",
    "f'US$ {fraud_loss:,}'"
   ]
  },
  {
   "cell_type": "markdown",
   "metadata": {},
   "source": [
    "**Task 7**: The average total claim amount stored the average (`mean`) value of `total_claim_amount` variable. Extract the value on the cell code below!"
   ]
  },
  {
   "cell_type": "code",
   "execution_count": 16,
   "metadata": {},
   "outputs": [
    {
     "data": {
      "text/plain": [
       "'US$ 52,761.94'"
      ]
     },
     "execution_count": 16,
     "metadata": {},
     "output_type": "execute_result"
    }
   ],
   "source": [
    "## Your code here\n",
    "average_claim = data.total_claim_amount.mean()\n",
    "f'US$ {average_claim:,}'"
   ]
  },
  {
   "cell_type": "markdown",
   "metadata": {},
   "source": [
    "<span style=\"font-size:1.5em;font-weight:bold\">Update the application scripts!</span>"
   ]
  },
  {
   "cell_type": "markdown",
   "metadata": {},
   "source": [
    "Lastly, follow these instructions to complete the next part of your application scripts:\n",
    "\n",
    "- **On app.py:**\n",
    "    - \"Uncomment\" the codes under `# generate value for cards` section then use the code in **Task 4** , **Task 5** & **Task 6** to complete the blank (`___`) part of the line"
   ]
  },
  {
   "cell_type": "markdown",
   "metadata": {},
   "source": [
    "# Generate Plot\n",
    "\n",
    "## by Profile\n",
    "\n",
    "The \"by Profile\" tab contains explanatory analysis on the proportion of reported fraud by the policy holder profile. There are two plots you need to recreate for this tab; **Months as Customer per Policy Annual Premium** and **Fraud Reported by Age group**"
   ]
  },
  {
   "cell_type": "markdown",
   "metadata": {},
   "source": [
    "### Fraud Reported by Age group\n",
    "\n",
    "The Fraud Reported by Age group plot compares age group to see the frequencies of the fraud reported at each age group. "
   ]
  },
  {
   "cell_type": "markdown",
   "metadata": {},
   "source": [
    "#### Categorize age group\n",
    "\n",
    "The `tenure_months` column indicates the total amount of months that the customer has been with the company by the end of the quarter. Your next task is to create a new column named `tenure_group` which categorize the tenure months by the following conditions:\n",
    "- **19 - 24**: customer with age 19 years old up until 24 years old\n",
    "- **24 - 30**: customer with age 24 years old up until 30 years old\n",
    "- **and so on**\n",
    "\n",
    "**Task 2**: Fill in the blank (`___`) part to create the `age_group` column!"
   ]
  },
  {
   "cell_type": "code",
   "execution_count": 17,
   "metadata": {},
   "outputs": [],
   "source": [
    "# Tenure Months to grouping categories\n",
    "def age_grouping(data):\n",
    "    if(data.age <= 24):\n",
    "        return '19 - 24'\n",
    "    elif(data.age > 24 and data.age <= 30) : \n",
    "        return '24 - 30'\n",
    "    elif(data.age > 30 and data.age <= 35) : \n",
    "        return '31 - 35'\n",
    "    elif(data.age > 35 and data.age <= 40) : \n",
    "        return '36 - 40'\n",
    "    elif(data.age > 40 and data.age <= 45) : \n",
    "        return '41 - 45'\n",
    "    elif(data.age > 45 and data.age <= 50) : \n",
    "        return '46 - 50'\n",
    "    elif(data.age > 50 and data.age <= 55) : \n",
    "        return '51 - 55'\n",
    "    elif(data.age > 55 and data.age <= 59) : \n",
    "        return '56 - 59'\n",
    "    else : \n",
    "        return '60+'\n",
    "\n",
    "data['age_group'] = data.apply(age_grouping,axis = 1)\n",
    "\n",
    "# Adjust category order\n",
    "age_group_order = ['19 - 24', '24 - 30', '31 - 35', '36 - 40', '41 - 45', '46 - 50', '51 - 55', '56 - 59', '60+']\n",
    "data['age_group'] = pd.Categorical(data['age_group'], categories = age_group_order, ordered=True)"
   ]
  },
  {
   "cell_type": "markdown",
   "metadata": {},
   "source": [
    "**Task 8**:  \n",
    "Use `pd.crosstab()` to get the frequency proportion, then recall how to use `.plot(kind = 'barh')` to create a horizontal bar plot. Before you using crosstab to get the only fraud reported data, you need to subset the data first and save it at `fraud_data`. "
   ]
  },
  {
   "cell_type": "code",
   "execution_count": 18,
   "metadata": {
    "ExecuteTime": {
     "end_time": "2020-09-19T22:13:39.993513Z",
     "start_time": "2020-09-19T22:13:39.740105Z"
    }
   },
   "outputs": [],
   "source": [
    "## Your code here\n",
    "fraud_data = data[data['fraud_reported'] == 'Y']\n",
    "\n",
    "age_profile = pd.crosstab(index=fraud_data['age_group'],columns='total')"
   ]
  },
  {
   "cell_type": "code",
   "execution_count": 19,
   "metadata": {},
   "outputs": [
    {
     "data": {
      "text/html": [
       "<div>\n",
       "<style scoped>\n",
       "    .dataframe tbody tr th:only-of-type {\n",
       "        vertical-align: middle;\n",
       "    }\n",
       "\n",
       "    .dataframe tbody tr th {\n",
       "        vertical-align: top;\n",
       "    }\n",
       "\n",
       "    .dataframe thead th {\n",
       "        text-align: right;\n",
       "    }\n",
       "</style>\n",
       "<table border=\"1\" class=\"dataframe\">\n",
       "  <thead>\n",
       "    <tr style=\"text-align: right;\">\n",
       "      <th>col_0</th>\n",
       "      <th>total</th>\n",
       "    </tr>\n",
       "    <tr>\n",
       "      <th>age_group</th>\n",
       "      <th></th>\n",
       "    </tr>\n",
       "  </thead>\n",
       "  <tbody>\n",
       "    <tr>\n",
       "      <th>19 - 24</th>\n",
       "      <td>8</td>\n",
       "    </tr>\n",
       "    <tr>\n",
       "      <th>24 - 30</th>\n",
       "      <td>38</td>\n",
       "    </tr>\n",
       "    <tr>\n",
       "      <th>31 - 35</th>\n",
       "      <td>55</td>\n",
       "    </tr>\n",
       "    <tr>\n",
       "      <th>36 - 40</th>\n",
       "      <td>39</td>\n",
       "    </tr>\n",
       "    <tr>\n",
       "      <th>41 - 45</th>\n",
       "      <td>49</td>\n",
       "    </tr>\n",
       "    <tr>\n",
       "      <th>46 - 50</th>\n",
       "      <td>23</td>\n",
       "    </tr>\n",
       "    <tr>\n",
       "      <th>51 - 55</th>\n",
       "      <td>14</td>\n",
       "    </tr>\n",
       "    <tr>\n",
       "      <th>56 - 59</th>\n",
       "      <td>12</td>\n",
       "    </tr>\n",
       "    <tr>\n",
       "      <th>60+</th>\n",
       "      <td>9</td>\n",
       "    </tr>\n",
       "  </tbody>\n",
       "</table>\n",
       "</div>"
      ],
      "text/plain": [
       "col_0      total\n",
       "age_group       \n",
       "19 - 24        8\n",
       "24 - 30       38\n",
       "31 - 35       55\n",
       "36 - 40       39\n",
       "41 - 45       49\n",
       "46 - 50       23\n",
       "51 - 55       14\n",
       "56 - 59       12\n",
       "60+            9"
      ]
     },
     "execution_count": 19,
     "metadata": {},
     "output_type": "execute_result"
    }
   ],
   "source": [
    "\n",
    "Jupyter Notebook\n",
    "Auto Insurance Fraud Analysis Current Kernel Logo \n",
    "\n",
    "jasaraharja\n",
    "\n",
    "    File\n",
    "    Edit\n",
    "    View\n",
    "    Insert\n",
    "    Cell\n",
    "    Kernel\n",
    "    Navigate\n",
    "    Widgets\n",
    "    LaTeX_envs\n",
    "    Help\n",
    "\n",
    "Contents\n",
    "\n",
    "    1  Load & Pre-process data\n",
    "        1.1  Adjust Data Types\n",
    "        1.2  Wrap as Function\n",
    "    2  Extract Quick Summary\n",
    "    3  Generate Plot\n",
    "        3.1  by Profile\n",
    "            3.1.1  Fraud Reported by Age group\n",
    "                3.1.1.1  Categorize age group\n",
    "            3.1.2  Months as Customer per Policy Annual Premium\n",
    "        3.2  by Report\n",
    "            3.2.1  Number of Report per Day\n",
    "            3.2.2  Police Report Availability\n",
    "    4  Create-Your-Own Analysis\n",
    "\n",
    "\n",
    "Auto Insurance Fraud Analysis\n",
    "\n",
    "In this exercise, we'll be creating a simple Flask application using fraud-detection-insurance data for autoinsurance fraud detection. Full data glossary can be accessed here.\n",
    "\n",
    "This notebook contains guidances & tasks on the data processing for the application.\n",
    "\n",
    "Libraries & Setup:\n",
    "\n",
    "import warnings\n",
    "\n",
    "warnings.filterwarnings('ignore')\n",
    "\n",
    "​\n",
    "\n",
    "import pandas as pd\n",
    "\n",
    "import matplotlib.pyplot as plt\n",
    "\n",
    "import matplotlib.patches as mpatches\n",
    "\n",
    "1  Load & Pre-process data\n",
    "\n",
    "Let's begin by reading our dataset in. The data will be using is autoinsurance.csv which located under data/ directory:\n",
    "\n",
    "insurance = pd.read_csv('data/autoinsurance.csv')\n",
    "\n",
    "insurance.head()\n",
    "\n",
    "0 \t328 \t48 \t521585 \t2014-10-17 \tOH \t250/500 \t1000 \t1406.91 \t0 \t466132 \t... \tYES \t71610 \t6510 \t13020 \t52080 \tSaab \t92x \t2004 \tY \tNaN\n",
    "1 \t228 \t42 \t342868 \t2006-06-27 \tIN \t250/500 \t2000 \t1197.22 \t5000000 \t468176 \t... \t? \t5070 \t780 \t780 \t3510 \tMercedes \tE400 \t2007 \tY \tNaN\n",
    "2 \t134 \t29 \t687698 \t2000-09-06 \tOH \t100/300 \t2000 \t1413.14 \t5000000 \t430632 \t... \tNO \t34650 \t7700 \t3850 \t23100 \tDodge \tRAM \t2007 \tN \tNaN\n",
    "3 \t256 \t41 \t227811 \t1990-05-25 \tIL \t250/500 \t2000 \t1415.74 \t6000000 \t608117 \t... \tNO \t63400 \t6340 \t6340 \t50720 \tChevrolet \tTahoe \t2014 \tY \tNaN\n",
    "4 \t228 \t44 \t367455 \t2014-06-06 \tIL \t500/1000 \t1000 \t1583.91 \t6000000 \t610706 \t... \tNO \t6500 \t1300 \t650 \t4550 \tAccura \tRSX \t2009 \tN \tNaN\n",
    "\n",
    "5 rows × 40 columns\n",
    "\n",
    "A very common step on your exploratory process is to make sure that all your columns have stored in the right data types. In the following cell, use dtypes to acquire information of data type of each column:\n",
    "\n",
    "## Your code here\n",
    "\n",
    "insurance.dtypes\n",
    "\n",
    "months_as_customer               int64\n",
    "age                              int64\n",
    "policy_number                    int64\n",
    "policy_bind_date                object\n",
    "policy_state                    object\n",
    "policy_csl                      object\n",
    "policy_deductable                int64\n",
    "policy_annual_premium          float64\n",
    "umbrella_limit                   int64\n",
    "insured_zip                      int64\n",
    "insured_sex                     object\n",
    "insured_education_level         object\n",
    "insured_occupation              object\n",
    "insured_hobbies                 object\n",
    "insured_relationship            object\n",
    "capital-gains                    int64\n",
    "capital-loss                     int64\n",
    "incident_date                   object\n",
    "incident_type                   object\n",
    "collision_type                  object\n",
    "incident_severity               object\n",
    "authorities_contacted           object\n",
    "incident_state                  object\n",
    "incident_city                   object\n",
    "incident_location               object\n",
    "incident_hour_of_the_day         int64\n",
    "number_of_vehicles_involved      int64\n",
    "property_damage                 object\n",
    "bodily_injuries                  int64\n",
    "witnesses                        int64\n",
    "police_report_available         object\n",
    "total_claim_amount               int64\n",
    "injury_claim                     int64\n",
    "property_claim                   int64\n",
    "vehicle_claim                    int64\n",
    "auto_make                       object\n",
    "auto_model                      object\n",
    "auto_year                        int64\n",
    "fraud_reported                  object\n",
    "_c39                           float64\n",
    "dtype: object\n",
    "\n",
    "Notice that all categorical informations from the data were stored as object rather than category.\n",
    "1.1  Adjust Data Types\n",
    "\n",
    "Task 1: Fill in the blank (___) part of the code below to cast all object to category:\n",
    "\n",
    "catcol = insurance.select_dtypes('object').columns\n",
    "\n",
    "insurance[catcol] = insurance[catcol].apply(lambda x: x.astype('category'))\n",
    "\n",
    "insurance.dtypes\n",
    "\n",
    "months_as_customer                int64\n",
    "age                               int64\n",
    "policy_number                     int64\n",
    "policy_bind_date               category\n",
    "policy_state                   category\n",
    "policy_csl                     category\n",
    "policy_deductable                 int64\n",
    "policy_annual_premium           float64\n",
    "umbrella_limit                    int64\n",
    "insured_zip                       int64\n",
    "insured_sex                    category\n",
    "insured_education_level        category\n",
    "insured_occupation             category\n",
    "insured_hobbies                category\n",
    "insured_relationship           category\n",
    "capital-gains                     int64\n",
    "capital-loss                      int64\n",
    "incident_date                  category\n",
    "incident_type                  category\n",
    "collision_type                 category\n",
    "incident_severity              category\n",
    "authorities_contacted          category\n",
    "incident_state                 category\n",
    "incident_city                  category\n",
    "incident_location              category\n",
    "incident_hour_of_the_day          int64\n",
    "number_of_vehicles_involved       int64\n",
    "property_damage                category\n",
    "bodily_injuries                   int64\n",
    "witnesses                         int64\n",
    "police_report_available        category\n",
    "total_claim_amount                int64\n",
    "injury_claim                      int64\n",
    "property_claim                    int64\n",
    "vehicle_claim                     int64\n",
    "auto_make                      category\n",
    "auto_model                     category\n",
    "auto_year                         int64\n",
    "fraud_reported                 category\n",
    "_c39                            float64\n",
    "dtype: object\n",
    "\n",
    "1.2  Wrap as Function\n",
    "\n",
    "Lastly, let's wrap the whole process above as a function named load_data(). This process is essential because in your Flask application later, you will need to define all your data processing as specific functions.\n",
    "\n",
    "Task 3: Fill in the blank (___) part with the same process you have done previously to complete the function.\n",
    "\n",
    "def load_data():\n",
    "\n",
    "    # Read data\n",
    "\n",
    "    insurance = pd.read_csv('data/autoinsurance.csv')\n",
    "\n",
    "    \n",
    "\n",
    "    # Adjust dtypes\n",
    "\n",
    "    catcol = insurance.select_dtypes('object').columns\n",
    "\n",
    "    insurance[catcol] = insurance[catcol].apply(lambda x: x.astype('category'))\n",
    "\n",
    "    \n",
    "\n",
    "    return(insurance)\n",
    "\n",
    "Congratulations, you have done the very first challenge of this capstone project!\n",
    "\n",
    "If you take a look at the project directory, you will find two separate scripts; app.py and helper.py. app.py handles the routing and within helper.py you would define function to be called in app.\n",
    "\n",
    "If you open up the helper.py, you will find all the functions needed to create the dashboard contents such as plots and data values. You may now copy the load_data() function definition above and overwrite the existing function on the script and save it.\n",
    "\n",
    "In app.py, notice that there's a line of data = load_data(). that you've save your function in separate python file/script, you can import the function to another script as the following:\n",
    "\n",
    "data = load_data()\n",
    "\n",
    "data.head()\n",
    "\n",
    "0 \t328 \t48 \t521585 \t2014-10-17 \tOH \t250/500 \t1000 \t1406.91 \t0 \t466132 \t... \tYES \t71610 \t6510 \t13020 \t52080 \tSaab \t92x \t2004 \tY \tNaN\n",
    "1 \t228 \t42 \t342868 \t2006-06-27 \tIN \t250/500 \t2000 \t1197.22 \t5000000 \t468176 \t... \t? \t5070 \t780 \t780 \t3510 \tMercedes \tE400 \t2007 \tY \tNaN\n",
    "2 \t134 \t29 \t687698 \t2000-09-06 \tOH \t100/300 \t2000 \t1413.14 \t5000000 \t430632 \t... \tNO \t34650 \t7700 \t3850 \t23100 \tDodge \tRAM \t2007 \tN \tNaN\n",
    "3 \t256 \t41 \t227811 \t1990-05-25 \tIL \t250/500 \t2000 \t1415.74 \t6000000 \t608117 \t... \tNO \t63400 \t6340 \t6340 \t50720 \tChevrolet \tTahoe \t2014 \tY \tNaN\n",
    "4 \t228 \t44 \t367455 \t2014-06-06 \tIL \t500/1000 \t1000 \t1583.91 \t6000000 \t610706 \t... \tNO \t6500 \t1300 \t650 \t4550 \tAccura \tRSX \t2009 \tN \tNaN\n",
    "\n",
    "5 rows × 40 columns\n",
    "\n",
    "Data Wrangling & Visualization\n",
    "\n",
    "Now that you're data is ready, we're now ready to prepare the explanatory data in our dashboard!\n",
    "\n",
    "Within app.py you will see the index() function will return a rendered templates along with some variables:\n",
    "\n",
    "    card_data: quick summary including Fraud Rate, Average Claim Amount & Fraud Loss\n",
    "    plot_age: Fraud Reported by Age group plot in by Profile tab\n",
    "    plot_premium: Months as Customer per Policy Annual Premium plot in by Profile tab\n",
    "    plot_incident: Number of Fraud Reported per Day plot in by Report tab\n",
    "    plot_report: Police Report Availability plot in by Report tab\n",
    "\n",
    "The values and plots above were resulted from all EDA techniques you have learned in the pervious workshops. Your next challenge is to recall how to use pandas subsetting method, aggregation tables and simple visualization!\n",
    "2  Extract Quick Summary\n",
    "\n",
    "Let's acquire the needed information for the quick summary in card_data. There are 3 values you need to extract:\n",
    "\n",
    "    Fraud Rate: The percentage of fraud reported (Fraud_reported = Y)\n",
    "    Average Claim Amount: The Average of total claim amount at this quarter (total_claim_amount)\n",
    "    Total Fraud Loss: Total of fraud loss at this quarter (total_claim_amount)\n",
    "\n",
    "Task 4: Fill in the blank (___) part of the code below to create a proportion table of fraud and not fraud customer!\n",
    "\n",
    "pd.crosstab(index=________,columns='count',normalize=______)*100\n",
    "\n",
    "N \t75.3\n",
    "Y \t24.7\n",
    "\n",
    "pd.crosstab(index=data['fraud_reported'],columns='count',normalize=True)*100\n",
    "\n",
    "N \t75.3\n",
    "Y \t24.7\n",
    "\n",
    "FraudRate = pd.crosstab(index=data['fraud_reported'],columns='count',normalize=True)*100\n",
    "\n",
    "FraudRate.loc['Y','count']\n",
    "\n",
    "24.7\n",
    "\n",
    "We can extract the value from our table by using .loc[] subsetting method.\n",
    "\n",
    "Task 5: Fill in the blank (___) part to extract the information of fraud reported!\n",
    "\n",
    "percent_fraud = float(FraudRate.loc['Y','count'])\n",
    "\n",
    "​\n",
    "\n",
    "f'{percent_fraud}%'\n",
    "\n",
    "'24.7%'\n",
    "\n",
    "Task 6: Extract total fraud loss with similar method! Total fraud loss is total claim amount at reported fraud costumer\n",
    "\n",
    "pd.crosstab(index=data['fraud_reported'],\n",
    "\n",
    "            columns='Total',\n",
    "\n",
    "            values=data['total_claim_amount'],\n",
    "\n",
    "            aggfunc='sum'\n",
    "\n",
    "           )\n",
    "\n",
    "N \t37867320\n",
    "Y \t14894620\n",
    "\n",
    "fraud_loss = pd.crosstab(index=data['fraud_reported'],\n",
    "\n",
    "            columns='Total',\n",
    "\n",
    "            values=data['total_claim_amount'],\n",
    "\n",
    "            aggfunc='sum'\n",
    "\n",
    "           ).loc['Y','Total']\n",
    "\n",
    "​\n",
    "\n",
    "f'US$ {fraud_loss:,}'\n",
    "\n",
    "'US$ 14,894,620'\n",
    "\n",
    "Task 7: The average total claim amount stored the average (mean) value of total_claim_amount variable. Extract the value on the cell code below!\n",
    "\n",
    "## Your code here\n",
    "\n",
    "average_claim = data.total_claim_amount.mean()\n",
    "\n",
    "f'US$ {average_claim:,}'\n",
    "\n",
    "'US$ 52,761.94'\n",
    "\n",
    "Update the application scripts!\n",
    "\n",
    "Lastly, follow these instructions to complete the next part of your application scripts:\n",
    "\n",
    "    On app.py:\n",
    "        \"Uncomment\" the codes under # generate value for cards section then use the code in Task 4 , Task 5 & Task 6 to complete the blank (___) part of the line\n",
    "\n",
    "3  Generate Plot\n",
    "3.1  by Profile\n",
    "\n",
    "The \"by Profile\" tab contains explanatory analysis on the proportion of reported fraud by the policy holder profile. There are two plots you need to recreate for this tab; Months as Customer per Policy Annual Premium and Fraud Reported by Age group\n",
    "3.1.1  Fraud Reported by Age group\n",
    "\n",
    "The Fraud Reported by Age group plot compares age group to see the frequencies of the fraud reported at each age group.\n",
    "3.1.1.1  Categorize age group\n",
    "\n",
    "The tenure_months column indicates the total amount of months that the customer has been with the company by the end of the quarter. Your next task is to create a new column named tenure_group which categorize the tenure months by the following conditions:\n",
    "\n",
    "    19 - 24: customer with age 19 years old up until 24 years old\n",
    "    24 - 30: customer with age 24 years old up until 30 years old\n",
    "    and so on\n",
    "\n",
    "Task 2: Fill in the blank (___) part to create the age_group column!\n",
    "\n",
    "# Tenure Months to grouping categories\n",
    "\n",
    "def age_grouping(data):\n",
    "\n",
    "    if(data.age <= 24):\n",
    "\n",
    "        return '19 - 24'\n",
    "\n",
    "    elif(data.age > 24 and data.age <= 30) : \n",
    "\n",
    "        return '24 - 30'\n",
    "\n",
    "    elif(data.age > 30 and data.age <= 35) : \n",
    "\n",
    "        return '31 - 35'\n",
    "\n",
    "    elif(data.age > 35 and data.age <= 40) : \n",
    "\n",
    "        return '36 - 40'\n",
    "\n",
    "    elif(data.age > 40 and data.age <= 45) : \n",
    "\n",
    "        return '41 - 45'\n",
    "\n",
    "    elif(data.age > 45 and data.age <= 50) : \n",
    "\n",
    "        return '46 - 50'\n",
    "\n",
    "    elif(data.age > 50 and data.age <= 55) : \n",
    "\n",
    "        return '51 - 55'\n",
    "\n",
    "    elif(data.age > 55 and data.age <= 59) : \n",
    "\n",
    "        return '56 - 59'\n",
    "\n",
    "    else : \n",
    "\n",
    "        return '60+'\n",
    "\n",
    "​\n",
    "\n",
    "data['age_group'] = data.apply(age_grouping,axis = 1)\n",
    "\n",
    "​\n",
    "\n",
    "# Adjust category order\n",
    "\n",
    "age_group_order = ['19 - 24', '24 - 30', '31 - 35', '36 - 40', '41 - 45', '46 - 50', '51 - 55', '56 - 59', '60+']\n",
    "\n",
    "data['age_group'] = pd.Categorical(data['age_group'], categories = age_group_order, ordered=True)\n",
    "\n",
    "Task 8:\n",
    "Use pd.crosstab() to get the frequency proportion, then recall how to use .plot(kind = 'barh') to create a horizontal bar plot. Before you using crosstab to get the only fraud reported data, you need to subset the data first and save it at fraud_data.\n",
    "age_profile"
   ]
  },
  {
   "cell_type": "markdown",
   "metadata": {},
   "source": [
    "You can also enhance the visualization such as adjusting the color by add the color parameter to your plot function call `.plot(kind = 'bar',color=['#c34454'])`.\n",
    "\n",
    "For now, **do not mind the plot's customization** as you can copy-and-paste the codes defined under the `plot_age()` function in `helper.py`."
   ]
  },
  {
   "cell_type": "code",
   "execution_count": 20,
   "metadata": {
    "ExecuteTime": {
     "end_time": "2020-09-19T22:13:41.962059Z",
     "start_time": "2020-09-19T22:13:41.639951Z"
    }
   },
   "outputs": [
    {
     "data": {
      "text/plain": [
       "Text(0.5, 1.0, 'Phone Service Customer')"
      ]
     },
     "execution_count": 20,
     "metadata": {},
     "output_type": "execute_result"
    },
    {
     "data": {
      "image/png": "[encoded data removed]",
      "text/plain": [
       "<Figure size 432x288 with 1 Axes>"
      ]
     },
     "metadata": {
      "needs_background": "light"
     },
     "output_type": "display_data"
    }
   ],
   "source": [
    "# Plot configuration\n",
    "ax = age_profile.plot.barh(title = \"Fraud Reported by Age group\", legend= False, color = '#c34454')\n",
    "\n",
    "#ax.xaxis.set_major_formatter(mtick.PercentFormatter())\n",
    "plt.legend(['Retain', 'Churn'],fancybox=True,shadow=True)\n",
    "plt.axes().get_yaxis().set_label_text('')\n",
    "plt.title('Phone Service Customer')"
   ]
  },
  {
   "cell_type": "markdown",
   "metadata": {},
   "source": [
    "### Months as Customer per Policy Annual Premium"
   ]
  },
  {
   "cell_type": "markdown",
   "metadata": {},
   "source": [
    "We need a helper function to make the plot more beautiful. You can just run and then skip this cell."
   ]
  },
  {
   "cell_type": "code",
   "execution_count": 21,
   "metadata": {},
   "outputs": [],
   "source": [
    "def tocolor(data):\n",
    "    if(data.fraud_reported == 'Y'):\n",
    "        return '#53a4b1'\n",
    "    else : \n",
    "        return '#c34454'\n",
    "    \n",
    "data.fcolor = data.apply(tocolor,axis=1)"
   ]
  },
  {
   "cell_type": "markdown",
   "metadata": {},
   "source": [
    "**Task 9**:  \n",
    "Using the same steps as what you did on \"Months as Customer per Policy Annual Premium\" plot, except this time the plot is a scatter plot that compare how long the policy holder as customer with how much their annual premium to see how those two variable relation with each other, and how is the characteristic of the fraud reported profile based on those 2 numeric variable.\n",
    "\n",
    "For now, **do not mind the plot's customization** as you can copy-and-paste the codes defined under the `plot_premium()` function in `helper.py`."
   ]
  },
  {
   "cell_type": "code",
   "execution_count": 22,
   "metadata": {
    "ExecuteTime": {
     "end_time": "2020-09-19T22:19:12.573776Z",
     "start_time": "2020-09-19T22:19:12.256291Z"
    }
   },
   "outputs": [
    {
     "data": {
      "text/plain": [
       "Text(0, 0.5, 'Policy Annual Premium')"
      ]
     },
     "execution_count": 22,
     "metadata": {},
     "output_type": "execute_result"
    },
    {
     "data": {
      "image/png": "[encoded data removed]",
      "text/plain": [
       "<Figure size 576x432 with 1 Axes>"
      ]
     },
     "metadata": {
      "needs_background": "light"
     },
     "output_type": "display_data"
    }
   ],
   "source": [
    "## Your code here\n",
    "\n",
    "ax = data.plot.scatter(x= 'months_as_customer', \n",
    "                       y = 'policy_annual_premium', \n",
    "                       c=data.fcolor,title = \"Months as Customer per Policy Annual Premium\",\n",
    "                       figsize=(8, 6))\n",
    "\n",
    "lab_y = mpatches.Patch(color='#53a4b1', label='Y')\n",
    "lab_n = mpatches.Patch(color='#c34454', label='N')\n",
    "plt.legend(handles = [lab_y ,lab_n], bbox_to_anchor=(1.17, 1))\n",
    "plt.xlabel(\"Months as Customer\")\n",
    "plt.ylabel(\"Policy Annual Premium\")"
   ]
  },
  {
   "cell_type": "markdown",
   "metadata": {},
   "source": [
    "## by Report\n",
    "\n",
    "The \"by Report\" tab contains explanatory analysis on how is the relationship between incident report with the fraud cases. There are two plots you need to recreate for this tab; **Number of Report per Day** and **Police Report Availability**\n",
    "\n",
    "### Number of Report per Day\n",
    "\n",
    "**Task 10**:  \n",
    "The Number of Report per Day plot visualize on how much the fraud cases happened at each day at this 1st quarter.\n",
    "\n",
    "You can start by create the frequency table for the visualization. First we need a helper function to make it easier to wrangling the data. then you can create your frequency table, this time with `pivot_table()`"
   ]
  },
  {
   "cell_type": "code",
   "execution_count": 23,
   "metadata": {
    "ExecuteTime": {
     "end_time": "2020-09-19T22:28:06.028904Z",
     "start_time": "2020-09-19T22:28:06.017966Z"
    }
   },
   "outputs": [],
   "source": [
    "## Your code here\n",
    "\n",
    "def tonum(data):\n",
    "    if(data.fraud_reported == 'Y'):\n",
    "        return 1\n",
    "    else : \n",
    "        return 0\n",
    "    \n",
    "data['fnum'] = data.apply(tonum,axis=1)\n",
    "\n",
    "timeseries = data.pivot_table(\n",
    "    index='incident_date',\n",
    "    values='fnum',\n",
    "    aggfunc='count')"
   ]
  },
  {
   "cell_type": "code",
   "execution_count": 24,
   "metadata": {
    "ExecuteTime": {
     "end_time": "2020-09-19T22:30:30.723923Z",
     "start_time": "2020-09-19T22:30:30.555879Z"
    }
   },
   "outputs": [
    {
     "data": {
      "text/plain": [
       "Text(0.5, 0, '')"
      ]
     },
     "execution_count": 24,
     "metadata": {},
     "output_type": "execute_result"
    },
    {
     "data": {
      "image/png": "[encoded data removed]",
      "text/plain": [
       "<Figure size 576x432 with 1 Axes>"
      ]
     },
     "metadata": {
      "needs_background": "light"
     },
     "output_type": "display_data"
    }
   ],
   "source": [
    "ax = timeseries.plot(legend=False, title = \"Number of Fraud per Day\",color='#c34454', figsize=(8, 6))\n",
    "\n",
    "# Plot Configuration\n",
    "plt.xlabel('')"
   ]
  },
  {
   "cell_type": "markdown",
   "metadata": {},
   "source": [
    "Again, **do not mind the plot's customization** as you can copy-and-paste the codes defined under the `plot_incident()` function in `helper.py`. "
   ]
  },
  {
   "cell_type": "markdown",
   "metadata": {},
   "source": [
    "### Police Report Availability"
   ]
  },
  {
   "cell_type": "markdown",
   "metadata": {},
   "source": [
    "**Task 11**:  \n",
    "The last plot you need to recreate is the Police Report Availability. This plot visualize how the relationship of Police Report Availability with the fraud report.\n",
    "\n",
    "Since we'll separate the bars by the `fraud_report`, we will need to wrangling the data a bit to make the table we want for the visualisation."
   ]
  },
  {
   "cell_type": "code",
   "execution_count": 25,
   "metadata": {
    "ExecuteTime": {
     "end_time": "2020-09-19T22:35:54.077364Z",
     "start_time": "2020-09-19T22:35:54.048474Z"
    }
   },
   "outputs": [
    {
     "data": {
      "text/html": [
       "<div>\n",
       "<style scoped>\n",
       "    .dataframe tbody tr th:only-of-type {\n",
       "        vertical-align: middle;\n",
       "    }\n",
       "\n",
       "    .dataframe tbody tr th {\n",
       "        vertical-align: top;\n",
       "    }\n",
       "\n",
       "    .dataframe thead th {\n",
       "        text-align: right;\n",
       "    }\n",
       "</style>\n",
       "<table border=\"1\" class=\"dataframe\">\n",
       "  <thead>\n",
       "    <tr style=\"text-align: right;\">\n",
       "      <th></th>\n",
       "      <th>fraud_reported</th>\n",
       "      <th>fraud_reported</th>\n",
       "    </tr>\n",
       "    <tr>\n",
       "      <th>police_report_available</th>\n",
       "      <th></th>\n",
       "      <th></th>\n",
       "    </tr>\n",
       "  </thead>\n",
       "  <tbody>\n",
       "    <tr>\n",
       "      <th>?</th>\n",
       "      <td>89</td>\n",
       "      <td>254</td>\n",
       "    </tr>\n",
       "    <tr>\n",
       "      <th>NO</th>\n",
       "      <td>86</td>\n",
       "      <td>257</td>\n",
       "    </tr>\n",
       "    <tr>\n",
       "      <th>YES</th>\n",
       "      <td>72</td>\n",
       "      <td>242</td>\n",
       "    </tr>\n",
       "  </tbody>\n",
       "</table>\n",
       "</div>"
      ],
      "text/plain": [
       "                         fraud_reported  fraud_reported\n",
       "police_report_available                                \n",
       "?                                    89             254\n",
       "NO                                   86             257\n",
       "YES                                  72             242"
      ]
     },
     "execution_count": 25,
     "metadata": {},
     "output_type": "execute_result"
    }
   ],
   "source": [
    "## Your code here\n",
    "df_fraud = data[data.fraud_reported == 'Y'].pivot_table(index='police_report_available',values='fraud_reported',aggfunc='count')\n",
    "\n",
    "df_nfraud = data[data.fraud_reported == 'N'].pivot_table(index='police_report_available',values='fraud_reported',aggfunc='count')\n",
    "\n",
    "p_report = pd.concat([df_fraud,df_nfraud],axis=1)\n",
    "p_report"
   ]
  },
  {
   "cell_type": "markdown",
   "metadata": {},
   "source": [
    "Once your data is ready, recall how to use `.plot(kind = 'bar')` to create a bar plot. You can add the `stacked` Parameter to stack of the barplot. \n",
    "\n",
    "Once again, **do not mind the plot's customization** as you can copy-and-paste the codes defined under the `plot_report()` function in `helper.py`. "
   ]
  },
  {
   "cell_type": "code",
   "execution_count": 26,
   "metadata": {
    "ExecuteTime": {
     "end_time": "2020-09-19T22:40:35.641639Z",
     "start_time": "2020-09-19T22:40:35.472092Z"
    }
   },
   "outputs": [
    {
     "data": {
      "text/plain": [
       "Text(0.5, 0, \"police report available'\")"
      ]
     },
     "execution_count": 26,
     "metadata": {},
     "output_type": "execute_result"
    },
    {
     "data": {
      "image/png": "[encoded data removed]",
      "text/plain": [
       "<Figure size 576x432 with 1 Axes>"
      ]
     },
     "metadata": {
      "needs_background": "light"
     },
     "output_type": "display_data"
    }
   ],
   "source": [
    "ax = p_report.plot.bar(stacked = 'police_report_available',color =['#c34454','#53a4b1'],title = \"Police Report Availability\", figsize=(8, 6))\n",
    "\n",
    "# Plot Configuration\n",
    "plt.legend(['fraud','not fraud'], bbox_to_anchor=(1, 1))\n",
    "plt.xlabel(\"police report available'\")"
   ]
  },
  {
   "cell_type": "markdown",
   "metadata": {},
   "source": [
    "<span style=\"font-size:1.5em;font-weight:bold\">Update the application scripts!</span>\n",
    "\n",
    "Now that your plots are ready, it's time to move them to the dashboard!\n",
    "\n",
    "- **On helper.py**:\n",
    "    - Use the code on **Task 8-11** to complete the functions below:\n",
    "        - Task 8 --> `plot_age()`\n",
    "        - Task 9 --> `plot_premium()`\n",
    "        - Task 10 --> `plot_incident()`\n",
    "        - Task 11 --> `plot_report()`\n",
    "        \n",
    "- **On app.py:**\n",
    "    - Now that all the functions are completed, you can call all functions from helper.py using the asterisk (\\*) symbol: `from helper import *` \n",
    "    - \"Uncomment\" the codes under `# generate plot` section to generate the plots\n",
    "    - Lastly, in `render_template()` at the end of `index()` in `app.py`, uncomment the remaining codes."
   ]
  },
  {
   "cell_type": "markdown",
   "metadata": {},
   "source": [
    "# Create-Your-Own Analysis\n",
    "\n",
    "We have prepared a Create-Your-Own tab on the apps where you can play around with the data frame and come up with your own analysis perspective. Don't forget to do the following steps:\n",
    "\n",
    "- Pass a variable onto the `render_template()` from `index()`\n",
    "- Create a separate function on `helper.py` for data wrangling and preprocessing, either returning a dataframe, simple value, or a plot to keep the `app.py` as clean as possible and easy to debug at later times\n",
    "- Edit the `index.html` to make sure it display your intended output on the page. You can copy-and-paste the skeleton from the other plots or values"
   ]
  },
  {
   "cell_type": "code",
   "execution_count": 30,
   "metadata": {},
   "outputs": [],
   "source": [
    "## Your code here\n"
   ]
  }
 ],
 "metadata": {
  "kernelspec": {
   "display_name": "jasaraharja",
   "language": "python",
   "name": "jasaraharja"
  },
  "language_info": {
   "codemirror_mode": {
    "name": "ipython",
    "version": 3
   },
   "file_extension": ".py",
   "mimetype": "text/x-python",
   "name": "python",
   "nbconvert_exporter": "python",
   "pygments_lexer": "ipython3",
   "version": "3.8.3"
  },
  "latex_envs": {
   "LaTeX_envs_menu_present": true,
   "autoclose": false,
   "autocomplete": true,
   "bibliofile": "biblio.bib",
   "cite_by": "apalike",
   "current_citInitial": 1,
   "eqLabelWithNumbers": true,
   "eqNumInitial": 1,
   "hotkeys": {
    "equation": "Ctrl-E",
    "itemize": "Ctrl-I"
   },
   "labels_anchors": false,
   "latex_user_defs": false,
   "report_style_numbering": false,
   "user_envs_cfg": false
  },
  "toc": {
   "base_numbering": 1,
   "nav_menu": {},
   "number_sections": true,
   "sideBar": true,
   "skip_h1_title": false,
   "title_cell": "Table of Contents",
   "title_sidebar": "Contents",
   "toc_cell": false,
   "toc_position": {
    "height": "calc(100% - 180px)",
    "left": "10px",
    "top": "150px",
    "width": "165px"
   },
   "toc_section_display": true,
   "toc_window_display": true
  }
 },
 "nbformat": 4,
 "nbformat_minor": 4
}
